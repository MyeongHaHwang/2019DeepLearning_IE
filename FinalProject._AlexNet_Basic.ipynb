{
  "nbformat": 4,
  "nbformat_minor": 0,
  "metadata": {
    "colab": {
      "name": "FinalProject.ipynb",
      "version": "0.3.2",
      "provenance": [],
      "collapsed_sections": []
    },
    "kernelspec": {
      "name": "python3",
      "display_name": "Python 3"
    },
    "accelerator": "GPU"
  },
  "cells": [
    {
      "cell_type": "markdown",
      "metadata": {
        "id": "S2c8tYQxP3b6",
        "colab_type": "text"
      },
      "source": [
        "<img height=\"45px\" src=\"https://colab.research.google.com/img/colab_favicon.ico\" align=\"left\" hspace=\"10px\" vspace=\"0px\">\n",
        "\n",
        "<h1>2019 Deep Learning _ Final Project</h1>\n",
        "\n",
        "MultipleGPU using AlexNet\n",
        "\n",
        "- Myeong-Ha Hwang"
      ]
    },
    {
      "cell_type": "markdown",
      "metadata": {
        "id": "3rR92wsLQTKh",
        "colab_type": "text"
      },
      "source": [
        "### AlexNet"
      ]
    },
    {
      "cell_type": "code",
      "metadata": {
        "id": "7irU5IyoP21U",
        "colab_type": "code",
        "colab": {}
      },
      "source": [
        "import numpy as np\n",
        "\n",
        "import torch\n",
        "import torch.nn as nn\n",
        "import torchvision.datasets as dsets\n",
        "import torchvision.transforms as transforms\n",
        "\n",
        "from torchsummary import summary\n",
        "from tqdm import tqdm\n",
        "import torch.nn.functional as F"
      ],
      "execution_count": 0,
      "outputs": []
    },
    {
      "cell_type": "code",
      "metadata": {
        "id": "iUMMIJh1P25G",
        "colab_type": "code",
        "colab": {}
      },
      "source": [
        "# Global Variable For training\n",
        "# You just use the following hyper-parameters\n",
        "BATCH_SIZE = 100\n",
        "NUM_EPOCH = 50\n",
        "LEARNING_RATE = 0.01\n",
        "CRITERION = nn.CrossEntropyLoss()"
      ],
      "execution_count": 0,
      "outputs": []
    },
    {
      "cell_type": "code",
      "metadata": {
        "id": "z2-No-lOP27i",
        "colab_type": "code",
        "colab": {
          "base_uri": "https://localhost:8080/",
          "height": 34
        },
        "outputId": "55e0f7fc-93a8-4bdb-de04-dc4ace359b7e"
      },
      "source": [
        "# CIFAR10 Dataset\n",
        "train_dataset = dsets.CIFAR10(root='./data', train=True, transform=transforms.ToTensor(), download=True)\n",
        "test_dataset = dsets.CIFAR10(root='./data', train=False, transform=transforms.ToTensor())\n",
        "\n",
        "train_loader = torch.utils.data.DataLoader(dataset=train_dataset, batch_size=BATCH_SIZE, shuffle=True)\n",
        "test_loader = torch.utils.data.DataLoader(dataset=test_dataset, batch_size=BATCH_SIZE, shuffle=False)"
      ],
      "execution_count": 3,
      "outputs": [
        {
          "output_type": "stream",
          "text": [
            "Files already downloaded and verified\n"
          ],
          "name": "stdout"
        }
      ]
    },
    {
      "cell_type": "code",
      "metadata": {
        "id": "vBI_D71hP293",
        "colab_type": "code",
        "colab": {}
      },
      "source": [
        "def fit(model,train_loader):\n",
        "    model.train()\n",
        "    device = next(model.parameters()).device.index\n",
        "    optimizer = torch.optim.SGD(model.parameters(), lr=LEARNING_RATE, momentum=0.9)\n",
        "    losses = []\n",
        "    for i, data in enumerate(train_loader):\n",
        "        image = data[0].type(torch.FloatTensor).cuda(device)\n",
        "        label = data[1].type(torch.LongTensor).cuda(device)\n",
        "        pred_label = model(image)\n",
        "        loss = CRITERION(pred_label, label)\n",
        "        losses.append(loss.item())\n",
        "\n",
        "        optimizer.zero_grad()\n",
        "        loss.backward()\n",
        "        optimizer.step()\n",
        "    avg_loss = sum(losses)/len(losses)\n",
        "    return avg_loss"
      ],
      "execution_count": 0,
      "outputs": []
    },
    {
      "cell_type": "code",
      "metadata": {
        "id": "st7DDSp4P3AE",
        "colab_type": "code",
        "colab": {}
      },
      "source": [
        "def eval(model, test_loader):\n",
        "    model.eval()\n",
        "    device = next(model.parameters()).device.index\n",
        "    pred_labels = []\n",
        "    real_labels = []\n",
        "\n",
        "    for i, data in enumerate(test_loader):\n",
        "        image = data[0].type(torch.FloatTensor).cuda(device)\n",
        "        label = data[1].type(torch.LongTensor).cuda(device)\n",
        "        real_labels += list(label.cpu().detach().numpy())\n",
        "        \n",
        "        pred_label = model(image)\n",
        "        pred_label = list(pred_label.cpu().detach().numpy())\n",
        "        pred_labels += pred_label\n",
        "        \n",
        "    real_labels = np.array(real_labels)\n",
        "    pred_labels = np.array(pred_labels)\n",
        "    pred_labels = pred_labels.argmax(axis=1)\n",
        "    acc = sum(real_labels==pred_labels)/len(real_labels)*100\n",
        "    \n",
        "    return acc"
      ],
      "execution_count": 0,
      "outputs": []
    },
    {
      "cell_type": "code",
      "metadata": {
        "id": "VgxOkHzuP3CS",
        "colab_type": "code",
        "colab": {}
      },
      "source": [
        "class AlexNet(nn.Module):\n",
        "    def __init__(self):\n",
        "        super(AlexNet, self).__init__()\n",
        "        self.features = nn.Sequential(\n",
        "            nn.Conv2d(3, 32, 3, 1, 1),\n",
        "            nn.ReLU(inplace=True),\n",
        "            nn.MaxPool2d(2),\n",
        "            \n",
        "            nn.Conv2d(32, 64, 3, 1, 1),\n",
        "            nn.ReLU(inplace=True),\n",
        "            nn.MaxPool2d(2),\n",
        "            \n",
        "            nn.Conv2d(64, 128, 3, 1, 1),\n",
        "            nn.ReLU(inplace=True),\n",
        "            nn.Conv2d(128, 128, 3, 1, 1),\n",
        "            nn.ReLU(inplace=True),\n",
        "            nn.Conv2d(128, 128, 3, 1, 1),\n",
        "            nn.ReLU(inplace=True),\n",
        "            nn.MaxPool2d(2))\n",
        "        \n",
        "        #self.avgpool = nn.AdaptiveAvgPool2d((8,8))\n",
        "        self.avgpool = nn.AvgPool2d(8)\n",
        "        self.classifier = nn.Sequential(\n",
        "            nn.Dropout(),\n",
        "            nn.Linear(128,128),\n",
        "            nn.ReLU(inplace = True),\n",
        "            nn.Dropout(),\n",
        "            nn.Linear(128,128),\n",
        "            nn.ReLU(inplace = True),\n",
        "            nn.Linear(128, 10)\n",
        "        )\n",
        "        \n",
        "    def forward(self, x):\n",
        "        x = self.features(x)\n",
        "        x = self.avgpool(x)\n",
        "        x = x.view(x.size(0), -1)\n",
        "        x = self.classifier(x)\n",
        "        return x"
      ],
      "execution_count": 0,
      "outputs": []
    },
    {
      "cell_type": "code",
      "metadata": {
        "id": "7rZp0jH2P3HD",
        "colab_type": "code",
        "colab": {
          "base_uri": "https://localhost:8080/",
          "height": 34
        },
        "outputId": "af55b4c5-1a3c-4610-d7db-19e63e331e57"
      },
      "source": [
        "AlexNet_model = AlexNet().cuda()\n",
        "train_loss0 = []\n",
        "test_accuracy0 = []\n",
        "for epoch in tqdm(range(NUM_EPOCH)):\n",
        "    train_loss0.append(fit(AlexNet_model, train_loader))\n",
        "    test_accuracy0.append(eval(AlexNet_model, test_loader))"
      ],
      "execution_count": 7,
      "outputs": [
        {
          "output_type": "stream",
          "text": [
            "100%|██████████| 50/50 [06:55<00:00,  8.31s/it]\n"
          ],
          "name": "stderr"
        }
      ]
    },
    {
      "cell_type": "code",
      "metadata": {
        "id": "eYD05JvNQM3z",
        "colab_type": "code",
        "colab": {
          "base_uri": "https://localhost:8080/",
          "height": 574
        },
        "outputId": "dbf753e0-91f1-40b1-d0ec-fd99990869ab"
      },
      "source": [
        "import matplotlib.pyplot as plt\n",
        "\n",
        "plt.plot(train_loss0, label='AlexNet')\n",
        "#plt.plot(train_loss4, label='ResNet')\n",
        "plt.legend()\n",
        "plt.xlabel(\"Epoch\")\n",
        "plt.ylabel(\"Train Loss\")\n",
        "plt.title('AlexNet (Train Loss)')\n",
        "plt.show()\n",
        "\n",
        "plt.plot(test_accuracy0, label='AlexNet')\n",
        "#plt.plot(test_accuracy4, label='ResNet')\n",
        "plt.legend()\n",
        "plt.xlabel(\"Epoch\")\n",
        "plt.ylabel(\"Test Accuracy\")\n",
        "plt.title('AlexNet (Test Accuracy)')\n",
        "plt.show()"
      ],
      "execution_count": 8,
      "outputs": [
        {
          "output_type": "display_data",
          "data": {
            "image/png": "[encoded data removed]",
            "text/plain": [
              "<Figure size 432x288 with 1 Axes>"
            ]
          },
          "metadata": {
            "tags": []
          }
        },
        {
          "output_type": "display_data",
          "data": {
            "image/png": "[encoded data removed]",
            "text/plain": [
              "<Figure size 432x288 with 1 Axes>"
            ]
          },
          "metadata": {
            "tags": []
          }
        }
      ]
    },
    {
      "cell_type": "markdown",
      "metadata": {
        "id": "VFfTE5HNQZjh",
        "colab_type": "text"
      },
      "source": [
        "### CNN"
      ]
    },
    {
      "cell_type": "code",
      "metadata": {
        "id": "uts34eWNQM81",
        "colab_type": "code",
        "colab": {}
      },
      "source": [
        "class SimpleCNN(nn.Module):\n",
        "    def __init__(self):\n",
        "        super(SimpleCNN, self).__init__()\n",
        "        self.layer1 = nn.Sequential(nn.Conv2d(3, 8, 5),\n",
        "                                    nn.ReLU(True),\n",
        "                                    nn.Conv2d(8, 8, 5),\n",
        "                                    nn.ReLU(True),\n",
        "                                    nn.MaxPool2d(2,2))\n",
        "        \n",
        "        self.layer2 = nn.Sequential(nn.Conv2d(8, 16, 5),\n",
        "                                    nn.ReLU(True),\n",
        "                                    nn.Conv2d(16, 16, 5),\n",
        "                                    nn.ReLU(True),\n",
        "                                    nn.MaxPool2d(2,2))\n",
        "        \n",
        "        self.fc = nn.Linear(16*2*2, 10)\n",
        "       \n",
        "    def forward(self, x):\n",
        "        x=self.layer1(x)\n",
        "        x=self.layer2(x)\n",
        "        x=x.view(x.size(0), -1)\n",
        "        x=self.fc(x)\n",
        "        return x"
      ],
      "execution_count": 0,
      "outputs": []
    },
    {
      "cell_type": "code",
      "metadata": {
        "id": "MdkODtl9Qcd5",
        "colab_type": "code",
        "colab": {
          "base_uri": "https://localhost:8080/",
          "height": 457
        },
        "outputId": "8143143d-4cd0-4ef4-968e-62f924315d14"
      },
      "source": [
        "cnn_model = SimpleCNN().cuda()\n",
        "train_loss2 = []\n",
        "test_accuracy2 = []\n",
        "for epoch in tqdm(range(NUM_EPOCH)):\n",
        "    train_loss2.append(fit(cnn_model, train_loader))\n",
        "    test_accuracy2.append(eval(cnn_model, test_loader))\n",
        "summary(cnn_model, input_size = (3,32,32))"
      ],
      "execution_count": 10,
      "outputs": [
        {
          "output_type": "stream",
          "text": [
            "100%|██████████| 50/50 [05:41<00:00,  6.84s/it]"
          ],
          "name": "stderr"
        },
        {
          "output_type": "stream",
          "text": [
            "----------------------------------------------------------------\n",
            "        Layer (type)               Output Shape         Param #\n",
            "================================================================\n",
            "            Conv2d-1            [-1, 8, 28, 28]             608\n",
            "              ReLU-2            [-1, 8, 28, 28]               0\n",
            "            Conv2d-3            [-1, 8, 24, 24]           1,608\n",
            "              ReLU-4            [-1, 8, 24, 24]               0\n",
            "         MaxPool2d-5            [-1, 8, 12, 12]               0\n",
            "            Conv2d-6             [-1, 16, 8, 8]           3,216\n",
            "              ReLU-7             [-1, 16, 8, 8]               0\n",
            "            Conv2d-8             [-1, 16, 4, 4]           6,416\n",
            "              ReLU-9             [-1, 16, 4, 4]               0\n",
            "        MaxPool2d-10             [-1, 16, 2, 2]               0\n",
            "           Linear-11                   [-1, 10]             650\n",
            "================================================================\n",
            "Total params: 12,498\n",
            "Trainable params: 12,498\n",
            "Non-trainable params: 0\n",
            "----------------------------------------------------------------\n",
            "Input size (MB): 0.01\n",
            "Forward/backward pass size (MB): 0.19\n",
            "Params size (MB): 0.05\n",
            "Estimated Total Size (MB): 0.25\n",
            "----------------------------------------------------------------\n"
          ],
          "name": "stdout"
        },
        {
          "output_type": "stream",
          "text": [
            "\n"
          ],
          "name": "stderr"
        }
      ]
    },
    {
      "cell_type": "code",
      "metadata": {
        "id": "llgsjGZIQdsZ",
        "colab_type": "code",
        "colab": {
          "base_uri": "https://localhost:8080/",
          "height": 574
        },
        "outputId": "b591d29b-7fdc-4133-b584-fc108b4d3e35"
      },
      "source": [
        "import matplotlib.pyplot as plt\n",
        "\n",
        "plt.plot(train_loss0, label='AlexNet')\n",
        "plt.plot(train_loss2, label='CNN')\n",
        "plt.legend()\n",
        "plt.xlabel(\"Epoch\")\n",
        "plt.ylabel(\"Train Loss\")\n",
        "plt.title('AlexNet vs CNN (Train Loss)')\n",
        "plt.show()\n",
        "\n",
        "plt.plot(test_accuracy0, label='AlexNet')\n",
        "plt.plot(test_accuracy2, label='CNN')\n",
        "plt.legend()\n",
        "plt.xlabel(\"Epoch\")\n",
        "plt.ylabel(\"Test Accuracy\")\n",
        "plt.title('AlexNet vs CNN (Test Accuracy)')\n",
        "plt.show()"
      ],
      "execution_count": 11,
      "outputs": [
        {
          "output_type": "display_data",
          "data": {
            "image/png": "[encoded data removed]",
            "text/plain": [
              "<Figure size 432x288 with 1 Axes>"
            ]
          },
          "metadata": {
            "tags": []
          }
        },
        {
          "output_type": "display_data",
          "data": {
            "image/png": "[encoded data removed]",
            "text/plain": [
              "<Figure size 432x288 with 1 Axes>"
            ]
          },
          "metadata": {
            "tags": []
          }
        }
      ]
    }
  ]
}